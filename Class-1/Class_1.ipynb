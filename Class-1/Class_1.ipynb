{
  "nbformat": 4,
  "nbformat_minor": 0,
  "metadata": {
    "colab": {
      "provenance": [],
      "collapsed_sections": [],
      "include_colab_link": true
    },
    "kernelspec": {
      "name": "python3",
      "display_name": "Python 3"
    },
    "language_info": {
      "name": "python"
    }
  },
  "cells": [
    {
      "cell_type": "markdown",
      "metadata": {
        "id": "view-in-github",
        "colab_type": "text"
      },
      "source": [
        "<a href=\"https://colab.research.google.com/github/thejasrao262003/Understanding-Machine-Learning-Algorithims/blob/main/Class-1/Class_1.ipynb\" target=\"_parent\"><img src=\"https://colab.research.google.com/assets/colab-badge.svg\" alt=\"Open In Colab\"/></a>"
      ]
    },
    {
      "cell_type": "markdown",
      "source": [
        "Welcome to the first class of undersanding ML algorithms\n",
        "Today you will get yourselves familiar with python and essentially get to dive into the basics of some libraries that you will be learning about throughout this course."
      ],
      "metadata": {
        "id": "uxWHk4LP14P2"
      }
    },
    {
      "cell_type": "markdown",
      "source": [
        "The Most basic Hello World program:"
      ],
      "metadata": {
        "id": "4TUobwcn2cvz"
      }
    },
    {
      "cell_type": "code",
      "source": [
        "print(\"Hello World!\")"
      ],
      "metadata": {
        "colab": {
          "base_uri": "https://localhost:8080/"
        },
        "id": "hE7C8tL22lmD",
        "outputId": "8fa35a32-54fc-4c9a-9d9c-b2fd90312a13"
      },
      "execution_count": null,
      "outputs": [
        {
          "output_type": "stream",
          "name": "stdout",
          "text": [
            "Hello World!\n"
          ]
        }
      ]
    },
    {
      "cell_type": "markdown",
      "source": [
        "Concept of variables and data types :\n",
        "EXERCISE: A travel company wants to fly a plane to the Bahamas. Flying the plane costs 5000 dollars. So far, 29 people have signed up for the trip. If the company charges 200 dollars per ticket, what is the profit made by the company? Create variables for each numeric quantity and use appropriate arithmetic operations."
      ],
      "metadata": {
        "id": "ovKfTdej2B9R"
      }
    },
    {
      "cell_type": "code",
      "source": [
        "plane_cost = 5000\n",
        "no_of_people = 29\n",
        "cost_per_ticket = 200\n",
        "profit = (no_of_people*cost_per_ticket) - plane_cost \n",
        "print(\"Profit : \",profit)"
      ],
      "metadata": {
        "id": "vxkFv26E23qA",
        "colab": {
          "base_uri": "https://localhost:8080/"
        },
        "outputId": "b03d9816-b5bc-498e-cec5-e27afd3b53b7"
      },
      "execution_count": null,
      "outputs": [
        {
          "output_type": "stream",
          "name": "stdout",
          "text": [
            "Profit :  800\n"
          ]
        }
      ]
    },
    {
      "cell_type": "markdown",
      "source": [
        "Concept of a conditional statement or a set of conditional statements and cases :\n",
        "Write a code snippet which evaluates whether a number is a multiple of just 2 , just 3 , or both 2 and 3 (multiple of 6)"
      ],
      "metadata": {
        "id": "xjAB_LDJ24I3"
      }
    },
    {
      "cell_type": "code",
      "source": [
        "#use if-else statements and print out the required information:\n",
        "num= 12\n",
        "#complete this area\n",
        "if num%6 == 0:\n",
        "  print(f\"{num} is a multiple of both 2 and 3\\n\")\n",
        "elif num%3 == 0:\n",
        "  print(f\"{num} is a multiple of just 3\\n\")\n",
        "elif num%2 == 0:\n",
        "  print(f\"{num} is a multiple of just 2\\n\")\n",
        "else:\n",
        "  print(f\"{num} is not a multiple of either 2 or 3\")"
      ],
      "metadata": {
        "id": "m_ZVPJuN3AXP",
        "colab": {
          "base_uri": "https://localhost:8080/"
        },
        "outputId": "3585650c-c9d1-4c56-8328-dcaee49a8952"
      },
      "execution_count": null,
      "outputs": [
        {
          "output_type": "stream",
          "name": "stdout",
          "text": [
            "12 is a multiple of both 2 and 3\n",
            "\n"
          ]
        }
      ]
    },
    {
      "cell_type": "markdown",
      "source": [
        "Concept of loops:\n",
        "Write a program to count the number of vowels in the given string:\n",
        "ANTIESTABLISHMENTARIANISTICALLY"
      ],
      "metadata": {
        "id": "O2bGzmzO3s9L"
      }
    },
    {
      "cell_type": "code",
      "source": [
        "count = 0\n",
        "str = \"ANTIESTABLISHMENTARIANISTICALLY\"\n",
        "list = [\"A\",\"E\",\"I\",\"O\",\"U\"]\n",
        "for i in range(0,len(str)-1):\n",
        "  if str[i] in list:\n",
        "    count += 1\n",
        "print(f\"Number of vowels in ANTIESTABLISHMENTARIANISTICALLY is = {count}\")"
      ],
      "metadata": {
        "id": "4g7drYH83vYE",
        "colab": {
          "base_uri": "https://localhost:8080/"
        },
        "outputId": "1ee7848e-bb62-47c6-b94e-ae8a3f08821e"
      },
      "execution_count": null,
      "outputs": [
        {
          "output_type": "stream",
          "name": "stdout",
          "text": [
            "Number of vowels in ANTIESTABLISHMENTARIANISTICALLY is = 12\n"
          ]
        }
      ]
    },
    {
      "cell_type": "markdown",
      "source": [
        "learning what each data- structure in python does and using all their functions:\n"
      ],
      "metadata": {
        "id": "e4Vc9Nw84bD5"
      }
    },
    {
      "cell_type": "markdown",
      "source": [
        "LISTS AND ITS FUNCTIONALITY:"
      ],
      "metadata": {
        "id": "OaEbJ_LY4joh"
      }
    },
    {
      "cell_type": "code",
      "source": [
        "#Define a random list of fruits \n",
        "list = [\"Apple\", \"Custard apple\", \"Orange\", \"Strawberry\"]\n",
        "#iterate over the list and find the name of the fruit which has the smallest word length\n",
        "min = len(list[0])\n",
        "for i in range(0, len(list)-1):\n",
        "  if len(list[i])<min:\n",
        "    min = i\n",
        "print(f\"The element which has smallest word length is: {list[i]}\\n\")\n",
        "# append a vegetable to your existing list\n",
        "list.append(\"Brinjal\")\n",
        "print(list,\"\\n\")\n",
        "# find the size of your list\n",
        "print(f\"Lenght of list: {len(list)}\\n\")\n",
        "# add enough fruits such that your list size is greater than 4\n",
        "\n",
        "# delete the 2nd fruit(1st index) from your list:\n",
        "list.pop(1)\n",
        "print(list,\"\\n\")\n",
        "# add your name in the 4th position of the list (3rd index)\n",
        "list.insert(3, \"Thejas\")\n",
        "print(list,\"\\n\")\n",
        "#have fun and try out any 4-5 pre-defined fucntions on a list as seen in the python list documentation\n",
        "\n"
      ],
      "metadata": {
        "id": "rjle8Jat4n7b",
        "colab": {
          "base_uri": "https://localhost:8080/"
        },
        "outputId": "b8a653b0-09d6-4608-abda-131915d81cd3"
      },
      "execution_count": null,
      "outputs": [
        {
          "output_type": "stream",
          "name": "stdout",
          "text": [
            "The element which has smallest word length is: Orange\n",
            "\n",
            "['Apple', 'Custard apple', 'Orange', 'Strawberry', 'Brinjal'] \n",
            "\n",
            "Lenght of list: 5\n",
            "\n",
            "['Apple', 'Orange', 'Strawberry', 'Brinjal'] \n",
            "\n",
            "['Apple', 'Orange', 'Strawberry', 'Thejas', 'Brinjal'] \n",
            "\n"
          ]
        }
      ]
    },
    {
      "cell_type": "markdown",
      "source": [
        "TUPLES AND ITS FUNCTIONALITY:"
      ],
      "metadata": {
        "id": "IAYs58gx4oWB"
      }
    },
    {
      "cell_type": "code",
      "source": [
        "#create abd tuple and print its elements \n",
        "abd = (\"hello\", 1, True, 2.3)\n",
        "print(abd, \"\\n\")\n",
        "#print the type of each value in the tuple\n",
        "for i in abd:\n",
        "  print(type(i), \"\\n\")\n",
        "#try to change the seconf value in your tuple to \"Caterpillar\"\n",
        "abd = list(abd)\n",
        "abd[1] = \"Caterpillar\"\n",
        "abd = tuple(abd)\n",
        "print(abd, \"\\n\")\n",
        "# print the last element of the tuple without using the length of the tuple\n",
        "print(f\"The last element {abd[-1]}\\n\")\n",
        "# slicing is an IMPORTANT concept in python especially since you will all be working on huge amounts of data so try different options \n",
        "# print(a[-2:]), print([:3]) etc...\n",
        "print(abd[-2:],\" \")\n",
        "print(abd[:3],\"\\n\")\n",
        "#sort vs sorted function: find the difference in the form of a program:\n",
        "abd = [3,7,9,10]\n",
        "abd.sort()\n",
        "print(abd,\"\\n\")\n",
        "print(sorted(abd), \"\\n\")"
      ],
      "metadata": {
        "id": "KquFBYey4qzu",
        "colab": {
          "base_uri": "https://localhost:8080/"
        },
        "outputId": "af97a0ea-6620-487a-c94a-b0f01aa6a0b5"
      },
      "execution_count": null,
      "outputs": [
        {
          "output_type": "stream",
          "name": "stdout",
          "text": [
            "('hello', 1, True, 2.3) \n",
            "\n",
            "<class 'str'> \n",
            "\n",
            "<class 'int'> \n",
            "\n",
            "<class 'bool'> \n",
            "\n",
            "<class 'float'> \n",
            "\n",
            "('hello', 'Caterpillar', True, 2.3) \n",
            "\n",
            "The last element 2.3\n",
            "\n",
            "(True, 2.3)  \n",
            "('hello', 'Caterpillar', True) \n",
            "\n",
            "[3, 7, 9, 10] \n",
            "\n",
            "[3, 7, 9, 10] \n",
            "\n"
          ]
        }
      ]
    },
    {
      "cell_type": "markdown",
      "source": [
        "SETS AND ITS FUNCTIONALITY:"
      ],
      "metadata": {
        "id": "P3xn-gIL4rS6"
      }
    },
    {
      "cell_type": "code",
      "source": [
        "#explore the properties of set and after doing that solve this little puzzle below:\n",
        "var = {\"hello\", \"for\", \"Hi\"}\n",
        "print(type(var))\n",
        "var.add(\"woah\")\n",
        "var2 = {\"Thejas\", \"Vikas\", \"Avicci\"}\n",
        "var3 = var.union(var2)\n",
        "print(var3)"
      ],
      "metadata": {
        "id": "RlURFwFx4viZ",
        "colab": {
          "base_uri": "https://localhost:8080/"
        },
        "outputId": "c564ebc5-2454-4efb-ddee-eded0c037d52"
      },
      "execution_count": null,
      "outputs": [
        {
          "output_type": "stream",
          "name": "stdout",
          "text": [
            "<class 'set'>\n",
            "{'Hi', 'Thejas', 'for', 'Vikas', 'Avicci', 'woah', 'hello'}\n"
          ]
        }
      ]
    },
    {
      "cell_type": "markdown",
      "source": [
        "Ana is a data-scientist  who just started her career in Meta, however she needs to find the existance of new words on facebook hashtags and find the numbre of unique such words which need to be added to the existing facebook hastag library:\n",
        "\n",
        "facebook hastag library : [\"ootd\", \"lol\", \"ffs\", \"asap\"]\n",
        "daily facebook hastag words string: \" rofl lol macha bob ootd asap fun sweet16 ffs lol asap ootd ffs macha rofl bob ootd fun candid anime happyhours bob fun happyhours\"\n",
        "You will need to indivitually extract the words from the string and then solve this problem ?? How are you going to do that ? \n",
        "# Reading documentation should become a habit ....."
      ],
      "metadata": {
        "id": "na8tI4EH70Lt"
      }
    },
    {
      "cell_type": "code",
      "source": [
        "#solve the above problem and help ana do her work she may even hire you as her assistant!!!\n",
        "var = \"rofl lol macha bob ootd asap fun sweet16 ffs lol asap ootd ffs macha rofl bob ootd fun candid anime happyhours bob fun happyhours\"\n",
        "list1 = set(var.split(\" \"))\n",
        "print(list1)"
      ],
      "metadata": {
        "id": "0ww7Zs5BBiBQ",
        "colab": {
          "base_uri": "https://localhost:8080/"
        },
        "outputId": "fea24ead-5c42-4b27-eeea-fb31e6a2a1c7"
      },
      "execution_count": null,
      "outputs": [
        {
          "output_type": "stream",
          "name": "stdout",
          "text": [
            "{'ootd', 'rofl', 'anime', 'macha', 'happyhours', 'fun', 'ffs', 'asap', 'bob', 'candid', 'lol', 'sweet16'}\n"
          ]
        }
      ]
    },
    {
      "cell_type": "markdown",
      "source": [
        "DICTIONARIES AND ITS FUNCTIONALITY:"
      ],
      "metadata": {
        "id": "kMmUm2qI4wBP"
      }
    },
    {
      "cell_type": "code",
      "source": [
        "#explore the usage of dictionaries because it is literally so useful when in comes data science\n",
        "#a lot of the data you will be using will be as key-value pairs \n"
      ],
      "metadata": {
        "id": "oR-54dFT4zYN"
      },
      "execution_count": null,
      "outputs": []
    },
    {
      "cell_type": "markdown",
      "source": [
        "Given an unsorted list of some elements(may or may not be integers), Find the frequency of each distinct element in the list using a dictionary. \n",
        "Input : [1, 1, 1, 5, 5, 3, 1, 3, 3, 1,\n",
        "                  4, 4, 4, 2, 2, 2, 2]\n",
        "\n",
        "Output : 1 : 5\n",
        "         2 : 4\n",
        "         3 : 3\n",
        "         4 : 3\n",
        "         5 : 2\n",
        "\n"
      ],
      "metadata": {
        "id": "V-iZrEMlE30W"
      }
    },
    {
      "cell_type": "code",
      "source": [
        "# Python program to count the frequency of\n",
        "# elements in a list using a dictionary\n",
        " \n",
        "def CountFrequency(my_list):\n",
        " \n",
        "    # Creating an empty dictionary\n",
        "    freq = {}\n",
        "    #------fill your code here-----------------\n",
        "    count = 0\n",
        "    for i in my_list:\n",
        "      if i in freq:\n",
        "        freq[i] += 1\n",
        "      else:\n",
        "        freq[i] = 1\n",
        "    for key, value in freq.items():\n",
        "      print(f\"{key} : {value}\\n\")\n",
        "# Driver function\n",
        "if __name__ == \"__main__\":\n",
        "    my_list =[1, 1, 1, 5, 5, 3, 1, 3, 3, 1, 4, 4, 4, 2, 2, 2, 2]\n",
        " \n",
        "    CountFrequency(my_list)"
      ],
      "metadata": {
        "id": "dPP6aUJaFbbv",
        "colab": {
          "base_uri": "https://localhost:8080/"
        },
        "outputId": "9f17328a-b3ff-4559-821f-35526816fb4d"
      },
      "execution_count": null,
      "outputs": [
        {
          "output_type": "stream",
          "name": "stdout",
          "text": [
            "1 : 5\n",
            "\n",
            "5 : 2\n",
            "\n",
            "3 : 3\n",
            "\n",
            "4 : 3\n",
            "\n",
            "2 : 4\n",
            "\n"
          ]
        }
      ]
    },
    {
      "cell_type": "markdown",
      "source": [
        "Now that you have finished this basics exercise in python We shall now play in teams and winning Team doesn't get homework today !"
      ],
      "metadata": {
        "id": "7AoTxECAFvfc"
      }
    }
  ]
}